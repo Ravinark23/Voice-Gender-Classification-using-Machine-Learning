{
 "cells": [
  {
   "cell_type": "markdown",
   "id": "24f9e980",
   "metadata": {},
   "source": [
    "# Problem Statememt\n",
    "\n"
   ]
  },
  {
   "cell_type": "markdown",
   "id": "b114d823",
   "metadata": {},
   "source": [
    "Create a classification model to predict the gender (male or female) based on different acoustic parameters"
   ]
  },
  {
   "cell_type": "markdown",
   "id": "a8bd635c",
   "metadata": {},
   "source": [
    "# Context"
   ]
  },
  {
   "cell_type": "markdown",
   "id": "a5c5fd89",
   "metadata": {},
   "source": [
    "This database was created to identify a voice as male or female, based upon \n",
    "acoustic properties of the voice and speech. The dataset consists of 3,168 recorded \n",
    "voice samples, collected from male and female speakers. The voice samples are pre\u0002processed by acoustic analysis in R using the seewave and tuneR packages, with an \n",
    "analyzed frequency range of 0hz-280hz (human vocal range)."
   ]
  },
  {
   "cell_type": "markdown",
   "id": "e6d32afc",
   "metadata": {},
   "source": [
    "# Steps to Consider"
   ]
  },
  {
   "cell_type": "markdown",
   "id": "89a8bf16",
   "metadata": {},
   "source": [
    "\n",
    "1)Remove/handle null values (if any)<br>\n",
    "2)Depict percentage distribution of label on a pie chart<br>\n",
    "3)Considering all the features as independent feature and label as dependent feature,\n",
    "split the dataset training and testing data with test size=20%<br>\n",
    "4)Apply the following classifier models on training dataset and generate predictions for\n",
    "the test dataset<br>\n",
    "a. Decision Tree Classifier<br>\n",
    "b. Random Forest Classifier<br>\n",
    "c. KNN Classifier<br>\n",
    "d. Logistic Regression<br>\n",
    "e. SVM Classifier<br>\n",
    "5)Also generate confusion_matrix and classification report for each model generated in\n",
    "Q4.<br>\n",
    "6)Report the model with the best accuracy.<br>"
   ]
  },
  {
   "cell_type": "markdown",
   "id": "b1c4d65a",
   "metadata": {},
   "source": [
    "### Making Imports"
   ]
  },
  {
   "cell_type": "code",
   "execution_count": 155,
   "id": "b4f48f5a",
   "metadata": {},
   "outputs": [],
   "source": [
    "import pandas as pd\n",
    "import numpy as np\n",
    "import matplotlib.pyplot as plt"
   ]
  },
  {
   "cell_type": "markdown",
   "id": "87fceaec",
   "metadata": {},
   "source": [
    "### Reading Dataset file as dataframe df"
   ]
  },
  {
   "cell_type": "code",
   "execution_count": 156,
   "id": "2044e5d3",
   "metadata": {},
   "outputs": [
    {
     "data": {
      "text/html": [
       "<div>\n",
       "<style scoped>\n",
       "    .dataframe tbody tr th:only-of-type {\n",
       "        vertical-align: middle;\n",
       "    }\n",
       "\n",
       "    .dataframe tbody tr th {\n",
       "        vertical-align: top;\n",
       "    }\n",
       "\n",
       "    .dataframe thead th {\n",
       "        text-align: right;\n",
       "    }\n",
       "</style>\n",
       "<table border=\"1\" class=\"dataframe\">\n",
       "  <thead>\n",
       "    <tr style=\"text-align: right;\">\n",
       "      <th></th>\n",
       "      <th>meanfreq</th>\n",
       "      <th>sd</th>\n",
       "      <th>median</th>\n",
       "      <th>Q25</th>\n",
       "      <th>Q75</th>\n",
       "      <th>IQR</th>\n",
       "      <th>skew</th>\n",
       "      <th>kurt</th>\n",
       "      <th>sp.ent</th>\n",
       "      <th>sfm</th>\n",
       "      <th>...</th>\n",
       "      <th>centroid</th>\n",
       "      <th>meanfun</th>\n",
       "      <th>minfun</th>\n",
       "      <th>maxfun</th>\n",
       "      <th>meandom</th>\n",
       "      <th>mindom</th>\n",
       "      <th>maxdom</th>\n",
       "      <th>dfrange</th>\n",
       "      <th>modindx</th>\n",
       "      <th>label</th>\n",
       "    </tr>\n",
       "  </thead>\n",
       "  <tbody>\n",
       "    <tr>\n",
       "      <th>0</th>\n",
       "      <td>0.059781</td>\n",
       "      <td>0.064241</td>\n",
       "      <td>0.032027</td>\n",
       "      <td>0.015071</td>\n",
       "      <td>0.090193</td>\n",
       "      <td>0.075122</td>\n",
       "      <td>12.863462</td>\n",
       "      <td>274.402906</td>\n",
       "      <td>0.893369</td>\n",
       "      <td>0.491918</td>\n",
       "      <td>...</td>\n",
       "      <td>0.059781</td>\n",
       "      <td>0.084279</td>\n",
       "      <td>0.015702</td>\n",
       "      <td>0.275862</td>\n",
       "      <td>0.007812</td>\n",
       "      <td>0.007812</td>\n",
       "      <td>0.007812</td>\n",
       "      <td>0.000000</td>\n",
       "      <td>0.000000</td>\n",
       "      <td>male</td>\n",
       "    </tr>\n",
       "    <tr>\n",
       "      <th>1</th>\n",
       "      <td>0.066009</td>\n",
       "      <td>0.067310</td>\n",
       "      <td>0.040229</td>\n",
       "      <td>0.019414</td>\n",
       "      <td>0.092666</td>\n",
       "      <td>0.073252</td>\n",
       "      <td>22.423285</td>\n",
       "      <td>634.613855</td>\n",
       "      <td>0.892193</td>\n",
       "      <td>0.513724</td>\n",
       "      <td>...</td>\n",
       "      <td>0.066009</td>\n",
       "      <td>0.107937</td>\n",
       "      <td>0.015826</td>\n",
       "      <td>0.250000</td>\n",
       "      <td>0.009014</td>\n",
       "      <td>0.007812</td>\n",
       "      <td>0.054688</td>\n",
       "      <td>0.046875</td>\n",
       "      <td>0.052632</td>\n",
       "      <td>male</td>\n",
       "    </tr>\n",
       "    <tr>\n",
       "      <th>2</th>\n",
       "      <td>0.077316</td>\n",
       "      <td>0.083829</td>\n",
       "      <td>0.036718</td>\n",
       "      <td>0.008701</td>\n",
       "      <td>0.131908</td>\n",
       "      <td>0.123207</td>\n",
       "      <td>30.757155</td>\n",
       "      <td>1024.927705</td>\n",
       "      <td>0.846389</td>\n",
       "      <td>0.478905</td>\n",
       "      <td>...</td>\n",
       "      <td>0.077316</td>\n",
       "      <td>0.098706</td>\n",
       "      <td>0.015656</td>\n",
       "      <td>0.271186</td>\n",
       "      <td>0.007990</td>\n",
       "      <td>0.007812</td>\n",
       "      <td>0.015625</td>\n",
       "      <td>0.007812</td>\n",
       "      <td>0.046512</td>\n",
       "      <td>male</td>\n",
       "    </tr>\n",
       "    <tr>\n",
       "      <th>3</th>\n",
       "      <td>0.151228</td>\n",
       "      <td>0.072111</td>\n",
       "      <td>0.158011</td>\n",
       "      <td>0.096582</td>\n",
       "      <td>0.207955</td>\n",
       "      <td>0.111374</td>\n",
       "      <td>1.232831</td>\n",
       "      <td>4.177296</td>\n",
       "      <td>0.963322</td>\n",
       "      <td>0.727232</td>\n",
       "      <td>...</td>\n",
       "      <td>0.151228</td>\n",
       "      <td>0.088965</td>\n",
       "      <td>0.017798</td>\n",
       "      <td>0.250000</td>\n",
       "      <td>0.201497</td>\n",
       "      <td>0.007812</td>\n",
       "      <td>0.562500</td>\n",
       "      <td>0.554688</td>\n",
       "      <td>0.247119</td>\n",
       "      <td>male</td>\n",
       "    </tr>\n",
       "    <tr>\n",
       "      <th>4</th>\n",
       "      <td>0.135120</td>\n",
       "      <td>0.079146</td>\n",
       "      <td>0.124656</td>\n",
       "      <td>0.078720</td>\n",
       "      <td>0.206045</td>\n",
       "      <td>0.127325</td>\n",
       "      <td>1.101174</td>\n",
       "      <td>4.333713</td>\n",
       "      <td>0.971955</td>\n",
       "      <td>0.783568</td>\n",
       "      <td>...</td>\n",
       "      <td>0.135120</td>\n",
       "      <td>0.106398</td>\n",
       "      <td>0.016931</td>\n",
       "      <td>0.266667</td>\n",
       "      <td>0.712812</td>\n",
       "      <td>0.007812</td>\n",
       "      <td>5.484375</td>\n",
       "      <td>5.476562</td>\n",
       "      <td>0.208274</td>\n",
       "      <td>male</td>\n",
       "    </tr>\n",
       "  </tbody>\n",
       "</table>\n",
       "<p>5 rows × 21 columns</p>\n",
       "</div>"
      ],
      "text/plain": [
       "   meanfreq        sd    median       Q25       Q75       IQR       skew  \\\n",
       "0  0.059781  0.064241  0.032027  0.015071  0.090193  0.075122  12.863462   \n",
       "1  0.066009  0.067310  0.040229  0.019414  0.092666  0.073252  22.423285   \n",
       "2  0.077316  0.083829  0.036718  0.008701  0.131908  0.123207  30.757155   \n",
       "3  0.151228  0.072111  0.158011  0.096582  0.207955  0.111374   1.232831   \n",
       "4  0.135120  0.079146  0.124656  0.078720  0.206045  0.127325   1.101174   \n",
       "\n",
       "          kurt    sp.ent       sfm  ...  centroid   meanfun    minfun  \\\n",
       "0   274.402906  0.893369  0.491918  ...  0.059781  0.084279  0.015702   \n",
       "1   634.613855  0.892193  0.513724  ...  0.066009  0.107937  0.015826   \n",
       "2  1024.927705  0.846389  0.478905  ...  0.077316  0.098706  0.015656   \n",
       "3     4.177296  0.963322  0.727232  ...  0.151228  0.088965  0.017798   \n",
       "4     4.333713  0.971955  0.783568  ...  0.135120  0.106398  0.016931   \n",
       "\n",
       "     maxfun   meandom    mindom    maxdom   dfrange   modindx  label  \n",
       "0  0.275862  0.007812  0.007812  0.007812  0.000000  0.000000   male  \n",
       "1  0.250000  0.009014  0.007812  0.054688  0.046875  0.052632   male  \n",
       "2  0.271186  0.007990  0.007812  0.015625  0.007812  0.046512   male  \n",
       "3  0.250000  0.201497  0.007812  0.562500  0.554688  0.247119   male  \n",
       "4  0.266667  0.712812  0.007812  5.484375  5.476562  0.208274   male  \n",
       "\n",
       "[5 rows x 21 columns]"
      ]
     },
     "execution_count": 156,
     "metadata": {},
     "output_type": "execute_result"
    }
   ],
   "source": [
    "df = pd.read_csv('voice.csv')\n",
    "df.head()"
   ]
  },
  {
   "cell_type": "code",
   "execution_count": 157,
   "id": "825abe9e",
   "metadata": {},
   "outputs": [
    {
     "name": "stdout",
     "output_type": "stream",
     "text": [
      "<class 'pandas.core.frame.DataFrame'>\n",
      "RangeIndex: 3168 entries, 0 to 3167\n",
      "Data columns (total 21 columns):\n",
      " #   Column    Non-Null Count  Dtype  \n",
      "---  ------    --------------  -----  \n",
      " 0   meanfreq  3168 non-null   float64\n",
      " 1   sd        3168 non-null   float64\n",
      " 2   median    3168 non-null   float64\n",
      " 3   Q25       3168 non-null   float64\n",
      " 4   Q75       3168 non-null   float64\n",
      " 5   IQR       3168 non-null   float64\n",
      " 6   skew      3168 non-null   float64\n",
      " 7   kurt      3168 non-null   float64\n",
      " 8   sp.ent    3168 non-null   float64\n",
      " 9   sfm       3168 non-null   float64\n",
      " 10  mode      3168 non-null   float64\n",
      " 11  centroid  3168 non-null   float64\n",
      " 12  meanfun   3168 non-null   float64\n",
      " 13  minfun    3168 non-null   float64\n",
      " 14  maxfun    3168 non-null   float64\n",
      " 15  meandom   3168 non-null   float64\n",
      " 16  mindom    3168 non-null   float64\n",
      " 17  maxdom    3168 non-null   float64\n",
      " 18  dfrange   3168 non-null   float64\n",
      " 19  modindx   3168 non-null   float64\n",
      " 20  label     3168 non-null   object \n",
      "dtypes: float64(20), object(1)\n",
      "memory usage: 519.9+ KB\n"
     ]
    }
   ],
   "source": [
    "df.info()"
   ]
  },
  {
   "cell_type": "markdown",
   "id": "b8010d48",
   "metadata": {},
   "source": [
    "# Step 1)Remove/handle null values (if any)"
   ]
  },
  {
   "cell_type": "code",
   "execution_count": 158,
   "id": "6037befe",
   "metadata": {},
   "outputs": [
    {
     "data": {
      "text/plain": [
       "meanfreq    0\n",
       "sd          0\n",
       "median      0\n",
       "Q25         0\n",
       "Q75         0\n",
       "IQR         0\n",
       "skew        0\n",
       "kurt        0\n",
       "sp.ent      0\n",
       "sfm         0\n",
       "mode        0\n",
       "centroid    0\n",
       "meanfun     0\n",
       "minfun      0\n",
       "maxfun      0\n",
       "meandom     0\n",
       "mindom      0\n",
       "maxdom      0\n",
       "dfrange     0\n",
       "modindx     0\n",
       "label       0\n",
       "dtype: int64"
      ]
     },
     "execution_count": 158,
     "metadata": {},
     "output_type": "execute_result"
    }
   ],
   "source": [
    "df.isnull().sum()\n"
   ]
  },
  {
   "cell_type": "code",
   "execution_count": 159,
   "id": "95aa522b",
   "metadata": {},
   "outputs": [
    {
     "data": {
      "text/plain": [
       "(3168, 21)"
      ]
     },
     "execution_count": 159,
     "metadata": {},
     "output_type": "execute_result"
    }
   ],
   "source": [
    "df.shape"
   ]
  },
  {
   "cell_type": "markdown",
   "id": "76cc3f28",
   "metadata": {},
   "source": [
    "### Label Encoding: \n",
    "### male: 1\n",
    "### female: 0"
   ]
  },
  {
   "cell_type": "code",
   "execution_count": 160,
   "id": "164d75eb",
   "metadata": {},
   "outputs": [
    {
     "data": {
      "text/plain": [
       "0       1\n",
       "1       1\n",
       "2       1\n",
       "3       1\n",
       "4       1\n",
       "       ..\n",
       "3163    0\n",
       "3164    0\n",
       "3165    0\n",
       "3166    0\n",
       "3167    0\n",
       "Name: label, Length: 3168, dtype: int8"
      ]
     },
     "execution_count": 160,
     "metadata": {},
     "output_type": "execute_result"
    }
   ],
   "source": [
    "df['label']=df['label'].astype('category')\n",
    "df.dtypes\n",
    "df['label']=df['label'].cat.codes\n",
    "df['label']\n"
   ]
  },
  {
   "cell_type": "markdown",
   "id": "59f3210e",
   "metadata": {},
   "source": [
    "### Saperating Input Feature Vector as x and output label feature vector as y"
   ]
  },
  {
   "cell_type": "code",
   "execution_count": 161,
   "id": "a8a4aaa0",
   "metadata": {},
   "outputs": [
    {
     "name": "stdout",
     "output_type": "stream",
     "text": [
      "(3168, 20)\n",
      "(3168,)\n"
     ]
    }
   ],
   "source": [
    "x = df.iloc[:,:-1]\n",
    "y = df.iloc[:,-1]\n",
    "print(x.shape)\n",
    "print(y.shape)"
   ]
  },
  {
   "cell_type": "markdown",
   "id": "e75d8e41",
   "metadata": {},
   "source": [
    "# Step 2)Depict percentage distribution of label on a pie chart"
   ]
  },
  {
   "cell_type": "code",
   "execution_count": 162,
   "id": "6b34633d",
   "metadata": {},
   "outputs": [
    {
     "data": {
      "text/plain": [
       "1    1584\n",
       "0    1584\n",
       "Name: label, dtype: int64"
      ]
     },
     "execution_count": 162,
     "metadata": {},
     "output_type": "execute_result"
    }
   ],
   "source": [
    "d1 = df['label'].value_counts()\n",
    "d1"
   ]
  },
  {
   "cell_type": "code",
   "execution_count": 163,
   "id": "e4c2bb04",
   "metadata": {},
   "outputs": [
    {
     "data": {
      "image/png": "[encoded data removed]",
      "text/plain": [
       "<Figure size 720x576 with 1 Axes>"
      ]
     },
     "metadata": {},
     "output_type": "display_data"
    }
   ],
   "source": [
    "plt.figure(figsize=(10,8))\n",
    "plt.pie(x=d1, labels=d1.index,autopct='%.2f%%')\n",
    "plt.title(\"Percentage Distribution of Labels\",fontsize=20)\n",
    "plt.show()"
   ]
  },
  {
   "cell_type": "markdown",
   "id": "553badaf",
   "metadata": {},
   "source": [
    "# Step 3)Considering all the features as independent feature and label as dependent feature, split the dataset training and testing data with test size=20%"
   ]
  },
  {
   "cell_type": "code",
   "execution_count": 164,
   "id": "25ae1e39",
   "metadata": {},
   "outputs": [],
   "source": [
    "from sklearn.model_selection import train_test_split"
   ]
  },
  {
   "cell_type": "code",
   "execution_count": 165,
   "id": "332f13f3",
   "metadata": {},
   "outputs": [
    {
     "name": "stdout",
     "output_type": "stream",
     "text": [
      "(2534, 20)\n",
      "(634, 20)\n",
      "(2534,)\n",
      "(634,)\n"
     ]
    }
   ],
   "source": [
    "x_train,x_test,y_train,y_test = train_test_split(x,y,test_size=0.20)\n",
    "print(x_train.shape)\n",
    "print(x_test.shape)\n",
    "print(y_train.shape)\n",
    "print(y_test.shape)"
   ]
  },
  {
   "cell_type": "markdown",
   "id": "3289cead",
   "metadata": {},
   "source": [
    "# Step 4)Apply the following classifier models on training dataset and generate predictions for the test dataset\n",
    "<br>a. Decision Tree Classifier\n",
    "<br>b. Random Forest Classifier\n",
    "<br>c. KNN Classifier\n",
    "<br>d. Logistic Regression\n",
    "<br>e. SVM Classifier<br>\n"
   ]
  },
  {
   "cell_type": "markdown",
   "id": "8622d84b",
   "metadata": {},
   "source": [
    "## Decision Tree Classifier"
   ]
  },
  {
   "cell_type": "code",
   "execution_count": 166,
   "id": "50bab3c5",
   "metadata": {},
   "outputs": [],
   "source": [
    "from sklearn.tree import DecisionTreeClassifier"
   ]
  },
  {
   "cell_type": "code",
   "execution_count": 167,
   "id": "eafdcff6",
   "metadata": {},
   "outputs": [
    {
     "data": {
      "text/plain": [
       "DecisionTreeClassifier(max_depth=5)"
      ]
     },
     "execution_count": 167,
     "metadata": {},
     "output_type": "execute_result"
    }
   ],
   "source": [
    "#model\n",
    "decision_tree_model = DecisionTreeClassifier(criterion='gini',max_depth=5)\n",
    "decision_tree_model.fit(x_train,y_train)"
   ]
  },
  {
   "cell_type": "code",
   "execution_count": 168,
   "id": "819bfd34",
   "metadata": {},
   "outputs": [
    {
     "name": "stdout",
     "output_type": "stream",
     "text": [
      "Training Score 0.9865824782951855\n",
      "Testing Score 0.973186119873817\n"
     ]
    }
   ],
   "source": [
    "# Accuracy\n",
    "print('Training Score',decision_tree_model.score(x_train,y_train))\n",
    "print('Testing Score',decision_tree_model.score(x_test,y_test))"
   ]
  },
  {
   "cell_type": "markdown",
   "id": "0cc6384f",
   "metadata": {},
   "source": [
    "## Random Forest Classifier"
   ]
  },
  {
   "cell_type": "code",
   "execution_count": 169,
   "id": "774b012c",
   "metadata": {},
   "outputs": [],
   "source": [
    "from sklearn.ensemble import RandomForestClassifier"
   ]
  },
  {
   "cell_type": "code",
   "execution_count": 170,
   "id": "9493364d",
   "metadata": {},
   "outputs": [
    {
     "data": {
      "text/plain": [
       "RandomForestClassifier(max_depth=5, n_estimators=70)"
      ]
     },
     "execution_count": 170,
     "metadata": {},
     "output_type": "execute_result"
    }
   ],
   "source": [
    "#model\n",
    "random_forest_model = RandomForestClassifier(n_estimators=70,criterion='gini',max_depth=5)\n",
    "random_forest_model.fit(x_train,y_train)"
   ]
  },
  {
   "cell_type": "code",
   "execution_count": 171,
   "id": "b2a491da",
   "metadata": {},
   "outputs": [
    {
     "name": "stdout",
     "output_type": "stream",
     "text": [
      "Training Score 0.9826361483820047\n",
      "Testing Score 0.9716088328075709\n"
     ]
    }
   ],
   "source": [
    "# Accuracy\n",
    "print('Training Score',random_forest_model.score(x_train,y_train))\n",
    "print('Testing Score',random_forest_model.score(x_test,y_test))"
   ]
  },
  {
   "cell_type": "markdown",
   "id": "615f0d24",
   "metadata": {},
   "source": [
    "## KNN Classifier "
   ]
  },
  {
   "cell_type": "code",
   "execution_count": 172,
   "id": "d4ade902",
   "metadata": {},
   "outputs": [],
   "source": [
    "from sklearn.neighbors import KNeighborsClassifier"
   ]
  },
  {
   "cell_type": "code",
   "execution_count": 173,
   "id": "9928e54f",
   "metadata": {},
   "outputs": [
    {
     "data": {
      "text/plain": [
       "KNeighborsClassifier()"
      ]
     },
     "execution_count": 173,
     "metadata": {},
     "output_type": "execute_result"
    }
   ],
   "source": [
    "#model\n",
    "knn_classifier_model =  KNeighborsClassifier(n_neighbors=5)\n",
    "knn_classifier_model.fit(x_train,y_train)"
   ]
  },
  {
   "cell_type": "code",
   "execution_count": 174,
   "id": "dc7dfd69",
   "metadata": {},
   "outputs": [
    {
     "name": "stdout",
     "output_type": "stream",
     "text": [
      "Training Score 0.8157063930544594\n",
      "Testing Score 0.7145110410094637\n"
     ]
    }
   ],
   "source": [
    "# Accuracy\n",
    "print('Training Score',knn_classifier_model.score(x_train,y_train))\n",
    "print('Testing Score',knn_classifier_model.score(x_test,y_test))"
   ]
  },
  {
   "cell_type": "markdown",
   "id": "666e71c5",
   "metadata": {},
   "source": [
    "## Logistic Regression"
   ]
  },
  {
   "cell_type": "code",
   "execution_count": 175,
   "id": "37605afd",
   "metadata": {},
   "outputs": [],
   "source": [
    "from sklearn.linear_model import LogisticRegression"
   ]
  },
  {
   "cell_type": "code",
   "execution_count": 176,
   "id": "6a473f9b",
   "metadata": {},
   "outputs": [
    {
     "data": {
      "text/plain": [
       "LogisticRegression(max_iter=500)"
      ]
     },
     "execution_count": 176,
     "metadata": {},
     "output_type": "execute_result"
    }
   ],
   "source": [
    "#Model\n",
    "logistic_regression_model = LogisticRegression(max_iter=500)\n",
    "logistic_regression_model.fit(x_train,y_train)"
   ]
  },
  {
   "cell_type": "code",
   "execution_count": 177,
   "id": "e64ab487",
   "metadata": {},
   "outputs": [
    {
     "name": "stdout",
     "output_type": "stream",
     "text": [
      "Training Score 0.9100236779794791\n",
      "Testing Score 0.9148264984227129\n"
     ]
    }
   ],
   "source": [
    "# Accuracy\n",
    "print('Training Score',logistic_regression_model.score(x_train,y_train))\n",
    "print('Testing Score',logistic_regression_model.score(x_test,y_test))\n"
   ]
  },
  {
   "cell_type": "markdown",
   "id": "57f52915",
   "metadata": {},
   "source": [
    "## SVM Classifier"
   ]
  },
  {
   "cell_type": "code",
   "execution_count": 178,
   "id": "aff2c377",
   "metadata": {},
   "outputs": [],
   "source": [
    "from sklearn.svm import SVC"
   ]
  },
  {
   "cell_type": "code",
   "execution_count": 179,
   "id": "a418e7e1",
   "metadata": {},
   "outputs": [
    {
     "data": {
      "text/plain": [
       "SVC(C=1, kernel='linear')"
      ]
     },
     "execution_count": 179,
     "metadata": {},
     "output_type": "execute_result"
    }
   ],
   "source": [
    "#model\n",
    "svm_classifier_model = SVC(kernel='linear',C=1)\n",
    "svm_classifier_model.fit(x_train,y_train)"
   ]
  },
  {
   "cell_type": "code",
   "execution_count": 180,
   "id": "c634a227",
   "metadata": {},
   "outputs": [
    {
     "name": "stdout",
     "output_type": "stream",
     "text": [
      "Training Score 0.9159431728492502\n",
      "Testing Score 0.9274447949526814\n"
     ]
    }
   ],
   "source": [
    "# Accuracy\n",
    "print('Training Score',svm_classifier_model.score(x_train,y_train))\n",
    "print('Testing Score',svm_classifier_model.score(x_test,y_test))\n"
   ]
  },
  {
   "cell_type": "markdown",
   "id": "ad6f8c37",
   "metadata": {},
   "source": [
    "# 5)Also generate confusion_matrix and classification report for each model generated in Q4.\n"
   ]
  },
  {
   "cell_type": "code",
   "execution_count": 181,
   "id": "2f9636f9",
   "metadata": {},
   "outputs": [],
   "source": [
    "from sklearn.metrics import confusion_matrix,classification_report,accuracy_score"
   ]
  },
  {
   "cell_type": "markdown",
   "id": "62820251",
   "metadata": {},
   "source": [
    "### Creating Function to calculate confusion matrix and classification report for each model"
   ]
  },
  {
   "cell_type": "code",
   "execution_count": 182,
   "id": "2c578a9c",
   "metadata": {},
   "outputs": [],
   "source": [
    "\n",
    "\n",
    "\n",
    "def gen_metrics(model,x_train,x_test,y_train,y_test):\n",
    "    model.fit(x_train,y_train)\n",
    "    print('Training score',model.score(x_train,y_train))\n",
    "    print('Testing score',model.score(x_test,y_test))\n",
    "    ypred = model.predict(x_test)\n",
    "    print('predicted Results\\n',ypred)\n",
    "    cm = confusion_matrix(y_test,ypred)\n",
    "    print('Confusion Matrix\\n',cm)\n",
    "    print('Classficaition Report\\n',classification_report(y_test,ypred))"
   ]
  },
  {
   "cell_type": "markdown",
   "id": "6251fb3e",
   "metadata": {},
   "source": [
    "## Decision Tree Classifier"
   ]
  },
  {
   "cell_type": "code",
   "execution_count": 183,
   "id": "c3dcac62",
   "metadata": {},
   "outputs": [
    {
     "name": "stdout",
     "output_type": "stream",
     "text": [
      "Training score 0.9861878453038674\n",
      "Testing score 0.9716088328075709\n",
      "predicted Results\n",
      " [1 1 0 1 1 0 1 0 0 0 0 0 1 1 1 0 1 0 0 1 1 1 1 0 0 0 0 1 1 0 0 1 0 0 0 1 0\n",
      " 0 1 0 1 1 0 0 1 1 1 1 1 0 1 0 1 1 0 1 0 0 0 0 1 1 1 1 0 0 0 0 0 0 0 0 0 0\n",
      " 1 1 1 0 1 0 0 1 1 1 0 0 0 1 1 1 1 1 0 1 1 0 1 1 1 1 0 1 1 0 0 1 1 0 1 1 0\n",
      " 1 0 0 0 0 1 0 0 0 0 0 0 0 1 1 0 0 0 1 1 0 0 0 0 1 1 0 0 0 1 1 0 0 0 1 0 1\n",
      " 1 0 1 0 1 1 0 1 0 0 0 0 0 0 1 1 0 1 0 0 0 0 0 1 1 0 1 1 0 1 0 0 1 0 0 1 1\n",
      " 0 0 1 1 0 0 0 1 0 0 0 1 1 0 1 1 1 1 1 0 0 0 0 1 0 0 0 0 1 1 1 1 0 1 0 0 1\n",
      " 1 0 0 1 0 1 1 0 1 0 1 0 0 0 1 0 0 0 1 1 0 1 0 1 1 0 0 0 1 0 0 0 1 1 0 0 1\n",
      " 0 1 1 0 0 0 1 0 0 1 1 1 1 0 0 0 0 0 1 0 1 1 1 0 1 1 1 0 0 1 1 0 1 0 1 1 1\n",
      " 1 0 0 1 0 0 1 1 1 0 0 0 1 1 1 1 1 0 0 1 0 0 0 1 0 0 1 1 1 1 1 1 0 1 0 1 0\n",
      " 0 1 0 1 1 0 1 0 1 1 0 1 0 0 1 0 0 1 1 0 1 1 1 1 0 1 0 1 1 0 1 0 0 0 0 0 0\n",
      " 0 1 0 0 0 1 0 0 0 0 0 1 1 1 1 0 1 1 1 0 1 1 1 0 0 0 0 1 0 0 1 1 1 0 0 0 0\n",
      " 0 0 0 0 0 0 0 0 1 1 0 0 1 1 0 0 0 0 1 0 0 1 1 1 1 1 0 0 1 0 0 0 1 1 0 1 1\n",
      " 0 0 0 0 0 1 1 1 0 0 0 1 1 1 1 1 1 0 0 0 0 1 1 1 0 1 0 1 0 0 1 0 0 1 0 1 1\n",
      " 1 0 0 0 0 0 1 1 0 0 1 1 0 1 0 1 0 1 0 0 0 1 1 1 1 0 0 0 0 1 1 1 1 0 0 0 1\n",
      " 0 1 1 0 0 1 1 0 1 1 0 1 1 0 0 0 1 0 0 1 1 1 1 0 0 0 0 1 0 0 0 1 0 0 0 1 1\n",
      " 1 1 0 1 0 1 1 1 0 0 0 0 1 1 1 1 1 0 0 1 0 0 1 0 0 1 0 0 1 0 0 1 1 1 1 0 1\n",
      " 0 1 1 1 0 1 0 0 0 0 0 0 1 1 0 0 0 0 0 0 0 0 1 1 0 1 1 1 1 1 0 0 1 0 1 0 1\n",
      " 1 1 1 0 1]\n",
      "Confusion Matrix\n",
      " [[322   5]\n",
      " [ 13 294]]\n",
      "Classficaition Report\n",
      "               precision    recall  f1-score   support\n",
      "\n",
      "           0       0.96      0.98      0.97       327\n",
      "           1       0.98      0.96      0.97       307\n",
      "\n",
      "    accuracy                           0.97       634\n",
      "   macro avg       0.97      0.97      0.97       634\n",
      "weighted avg       0.97      0.97      0.97       634\n",
      "\n"
     ]
    }
   ],
   "source": [
    "gen_metrics(decision_tree_model,x_train,x_test,y_train,y_test)"
   ]
  },
  {
   "cell_type": "markdown",
   "id": "56c7dabd",
   "metadata": {},
   "source": [
    "## Random Forest Classifier"
   ]
  },
  {
   "cell_type": "code",
   "execution_count": 184,
   "id": "33f84aea",
   "metadata": {},
   "outputs": [
    {
     "name": "stdout",
     "output_type": "stream",
     "text": [
      "Training score 0.9846093133385951\n",
      "Testing score 0.9716088328075709\n",
      "predicted Results\n",
      " [1 1 0 1 1 0 1 0 0 0 0 0 1 1 1 0 1 0 0 1 1 1 1 0 0 0 0 1 1 0 0 1 0 0 0 1 0\n",
      " 0 1 0 1 1 0 0 1 1 1 1 1 0 1 0 1 1 0 1 0 0 0 0 1 1 1 1 0 0 0 0 0 0 0 0 0 0\n",
      " 1 1 1 0 1 0 0 1 1 1 0 0 0 1 1 1 1 1 0 1 1 0 1 1 1 1 0 1 1 0 0 1 1 1 1 1 0\n",
      " 1 0 0 0 0 1 0 0 0 0 0 0 0 1 1 0 0 0 1 1 0 0 0 0 1 1 0 0 0 1 1 0 0 0 1 0 1\n",
      " 1 0 1 0 1 1 0 1 0 1 0 0 0 0 1 1 0 1 0 0 0 0 0 1 1 0 1 1 0 1 0 0 1 0 0 1 1\n",
      " 0 0 1 1 0 0 0 1 0 0 0 1 1 0 1 1 1 1 1 0 0 1 0 1 1 0 0 0 1 1 1 1 0 1 0 0 1\n",
      " 1 0 0 1 0 1 1 0 1 0 1 0 0 0 1 0 0 0 1 1 0 1 0 1 1 0 0 0 1 0 0 0 1 1 0 0 1\n",
      " 0 1 1 0 0 0 1 0 0 1 1 1 1 0 0 0 1 0 1 0 1 1 1 0 1 1 1 0 0 1 1 0 1 0 1 1 1\n",
      " 1 0 0 1 0 0 1 1 1 0 0 0 1 1 1 1 1 0 0 1 0 0 0 1 0 0 1 1 1 1 1 1 0 1 0 1 0\n",
      " 0 1 0 1 1 0 1 0 1 1 0 1 0 0 1 0 0 1 1 0 1 1 1 1 0 1 0 1 1 0 1 0 0 0 0 0 0\n",
      " 0 1 0 0 0 1 0 0 0 0 0 1 1 1 1 0 1 1 1 0 1 1 1 0 0 0 0 1 0 0 1 1 1 0 0 0 0\n",
      " 0 0 0 0 0 0 0 0 1 1 0 0 1 1 0 0 0 0 1 0 0 1 1 1 1 1 0 0 1 0 0 0 1 1 0 1 1\n",
      " 0 0 0 0 0 1 1 1 0 0 0 1 1 1 1 1 1 0 0 1 0 1 1 1 0 1 0 1 0 0 1 0 0 1 0 1 1\n",
      " 1 0 0 0 0 0 1 1 0 0 1 1 0 1 0 1 0 1 0 0 0 1 1 1 1 0 0 0 0 1 1 1 1 0 0 0 1\n",
      " 1 1 1 0 0 1 1 0 1 1 0 1 1 0 0 0 1 0 0 1 1 1 1 0 0 0 0 1 0 0 0 1 1 0 0 1 1\n",
      " 1 1 0 1 0 1 1 1 0 0 1 0 1 1 1 1 1 0 0 1 0 0 1 0 0 1 0 0 1 0 0 1 1 1 1 0 1\n",
      " 0 1 1 1 0 1 0 0 0 1 0 0 1 1 0 0 0 0 0 0 0 0 1 1 0 1 1 1 1 1 0 0 1 0 1 0 1\n",
      " 1 1 1 0 1]\n",
      "Confusion Matrix\n",
      " [[317  10]\n",
      " [  8 299]]\n",
      "Classficaition Report\n",
      "               precision    recall  f1-score   support\n",
      "\n",
      "           0       0.98      0.97      0.97       327\n",
      "           1       0.97      0.97      0.97       307\n",
      "\n",
      "    accuracy                           0.97       634\n",
      "   macro avg       0.97      0.97      0.97       634\n",
      "weighted avg       0.97      0.97      0.97       634\n",
      "\n"
     ]
    }
   ],
   "source": [
    "gen_metrics(random_forest_model,x_train,x_test,y_train,y_test)"
   ]
  },
  {
   "cell_type": "markdown",
   "id": "6bbf7b8c",
   "metadata": {},
   "source": [
    "## KNN Classifier"
   ]
  },
  {
   "cell_type": "code",
   "execution_count": 185,
   "id": "0903f67e",
   "metadata": {},
   "outputs": [
    {
     "name": "stdout",
     "output_type": "stream",
     "text": [
      "Training score 0.8157063930544594\n",
      "Testing score 0.7145110410094637\n",
      "predicted Results\n",
      " [1 1 0 1 1 0 1 0 1 0 0 0 0 0 1 0 1 0 0 1 1 1 1 1 0 1 0 0 0 0 1 1 0 0 0 0 0\n",
      " 1 0 1 1 1 1 0 1 1 1 1 1 1 0 0 0 0 1 0 1 0 1 0 0 0 1 1 1 0 0 1 1 0 0 0 0 0\n",
      " 1 0 1 0 1 0 0 0 1 1 1 0 0 1 0 1 0 1 1 0 1 0 1 1 1 0 0 1 1 0 0 1 1 0 1 1 0\n",
      " 1 0 0 1 0 1 0 1 0 1 0 0 0 1 0 0 0 0 0 0 1 1 0 0 0 1 1 0 0 1 1 1 1 0 1 1 0\n",
      " 1 0 1 1 1 1 0 1 1 1 1 0 0 0 1 1 1 1 0 1 0 0 1 1 1 0 0 1 0 1 1 0 0 0 0 1 1\n",
      " 0 0 0 1 0 0 1 1 0 1 0 1 1 0 1 1 1 1 1 0 0 1 0 1 1 0 1 0 1 1 0 1 1 1 0 1 1\n",
      " 1 0 1 1 0 1 1 0 0 0 1 1 0 0 1 0 0 0 1 1 0 1 0 1 1 0 0 0 1 0 0 0 1 1 0 1 1\n",
      " 0 0 0 0 0 0 0 0 0 1 1 0 0 1 0 0 1 0 1 0 1 1 1 0 1 1 0 1 0 0 1 0 1 0 1 1 1\n",
      " 0 1 0 1 1 0 1 1 1 0 1 0 1 1 1 1 1 1 1 0 1 0 0 1 1 0 1 1 1 1 1 0 0 1 1 0 1\n",
      " 0 1 0 1 0 0 1 1 1 1 0 1 0 0 1 0 1 1 1 0 0 1 1 1 0 1 0 1 1 1 1 0 0 1 0 1 1\n",
      " 0 1 0 0 0 1 0 0 1 0 1 0 1 1 1 0 1 1 1 0 1 1 0 0 1 0 1 1 1 0 1 1 0 0 0 1 1\n",
      " 0 1 0 1 0 0 0 0 1 1 0 1 0 1 1 0 0 0 0 1 1 1 1 1 1 1 0 0 1 0 0 1 1 0 1 0 0\n",
      " 0 0 0 1 1 1 0 1 0 0 0 0 1 1 1 1 1 1 0 1 0 1 1 0 0 0 0 1 1 0 1 0 0 1 0 1 0\n",
      " 0 1 0 1 1 1 0 1 1 1 0 0 0 1 0 1 0 0 1 0 0 1 1 1 0 1 1 0 0 1 1 0 1 0 0 0 1\n",
      " 0 1 1 0 0 0 1 0 0 1 1 1 1 0 1 0 1 0 1 1 1 1 1 0 1 1 0 0 0 0 0 0 1 0 1 1 1\n",
      " 1 1 1 0 0 1 0 0 0 0 1 0 1 0 0 0 0 0 0 1 0 0 1 0 0 1 0 0 0 0 0 1 1 1 1 0 1\n",
      " 0 0 0 1 0 0 0 0 0 0 0 1 0 0 0 0 1 0 0 0 0 1 1 0 0 0 1 1 0 1 1 1 1 0 1 1 1\n",
      " 0 1 1 0 1]\n",
      "Confusion Matrix\n",
      " [[229  98]\n",
      " [ 83 224]]\n",
      "Classficaition Report\n",
      "               precision    recall  f1-score   support\n",
      "\n",
      "           0       0.73      0.70      0.72       327\n",
      "           1       0.70      0.73      0.71       307\n",
      "\n",
      "    accuracy                           0.71       634\n",
      "   macro avg       0.71      0.71      0.71       634\n",
      "weighted avg       0.72      0.71      0.71       634\n",
      "\n"
     ]
    }
   ],
   "source": [
    "gen_metrics(knn_classifier_model,x_train,x_test,y_train,y_test)"
   ]
  },
  {
   "cell_type": "markdown",
   "id": "4c6d303b",
   "metadata": {},
   "source": [
    "## Logistic Regression"
   ]
  },
  {
   "cell_type": "code",
   "execution_count": 186,
   "id": "111b32aa",
   "metadata": {},
   "outputs": [
    {
     "name": "stdout",
     "output_type": "stream",
     "text": [
      "Training score 0.9100236779794791\n",
      "Testing score 0.9148264984227129\n",
      "predicted Results\n",
      " [1 1 0 1 1 0 1 0 0 0 0 0 1 1 1 0 1 0 0 1 1 1 1 0 0 0 0 1 1 0 0 1 0 0 0 1 0\n",
      " 1 1 0 1 1 0 0 1 1 1 1 1 0 0 0 1 1 0 1 1 0 0 0 1 1 1 1 1 0 0 0 1 1 0 0 0 0\n",
      " 1 1 1 1 1 0 0 1 1 1 1 0 0 1 1 1 1 1 0 1 1 0 1 1 1 1 0 1 1 0 0 1 1 1 1 1 1\n",
      " 1 0 0 1 0 1 0 0 1 0 0 0 1 1 1 0 0 0 1 1 1 0 0 1 1 1 0 0 0 1 1 0 0 0 1 0 1\n",
      " 1 0 1 0 1 1 0 1 0 0 0 0 0 0 1 1 1 1 0 1 0 0 1 1 1 0 1 1 0 1 0 0 1 0 0 1 1\n",
      " 0 0 1 1 0 0 0 1 0 0 0 1 1 0 1 1 1 1 1 0 1 0 0 1 1 1 0 0 1 1 1 1 0 1 0 0 1\n",
      " 1 0 0 1 0 1 1 0 1 0 1 1 0 0 1 0 1 0 1 1 0 1 0 1 1 0 1 0 1 0 0 0 1 1 0 1 1\n",
      " 1 1 1 0 0 1 1 0 0 1 1 1 1 0 0 0 1 0 1 0 1 1 1 0 1 1 1 0 0 1 1 0 1 0 1 1 1\n",
      " 1 1 0 1 0 0 1 1 1 0 0 0 1 1 1 1 1 0 1 1 0 0 0 1 0 0 1 1 1 1 1 0 0 1 0 1 1\n",
      " 0 1 0 1 1 0 1 0 1 1 0 1 0 0 1 0 1 1 1 0 1 1 1 1 0 1 0 1 1 1 1 0 0 0 0 0 1\n",
      " 0 1 0 0 0 1 0 0 0 0 1 1 1 1 1 0 1 1 1 0 1 1 1 0 1 0 0 1 0 0 1 1 1 0 0 0 0\n",
      " 0 1 0 0 0 0 0 0 1 1 0 0 1 1 1 0 0 0 1 0 0 1 1 1 1 1 0 0 1 0 0 0 1 1 0 1 1\n",
      " 0 0 0 0 0 1 1 1 0 0 0 1 1 1 1 1 1 0 0 1 0 1 1 1 0 1 0 1 1 0 1 0 0 1 0 1 1\n",
      " 1 0 0 0 0 0 1 1 1 0 1 1 0 1 0 1 0 1 0 0 0 1 1 1 1 1 1 0 0 1 1 1 1 0 0 0 1\n",
      " 1 1 1 0 0 1 1 0 1 1 0 1 1 0 0 0 1 0 0 1 1 1 1 0 0 0 0 1 0 0 0 1 1 0 0 1 1\n",
      " 1 1 0 1 0 1 1 1 0 0 1 0 1 1 1 1 0 0 0 1 0 0 1 0 0 1 0 1 1 0 1 1 1 1 1 0 1\n",
      " 0 1 1 1 0 1 0 0 0 1 0 1 1 1 0 1 0 0 0 0 0 0 1 1 0 1 1 1 1 1 1 1 1 0 1 0 1\n",
      " 1 1 1 1 1]\n",
      "Confusion Matrix\n",
      " [[279  48]\n",
      " [  6 301]]\n",
      "Classficaition Report\n",
      "               precision    recall  f1-score   support\n",
      "\n",
      "           0       0.98      0.85      0.91       327\n",
      "           1       0.86      0.98      0.92       307\n",
      "\n",
      "    accuracy                           0.91       634\n",
      "   macro avg       0.92      0.92      0.91       634\n",
      "weighted avg       0.92      0.91      0.91       634\n",
      "\n"
     ]
    }
   ],
   "source": [
    "gen_metrics(logistic_regression_model,x_train,x_test,y_train,y_test)"
   ]
  },
  {
   "cell_type": "markdown",
   "id": "3cc8e3a3",
   "metadata": {},
   "source": [
    "## SVM Classifier"
   ]
  },
  {
   "cell_type": "code",
   "execution_count": 187,
   "id": "65351320",
   "metadata": {},
   "outputs": [
    {
     "name": "stdout",
     "output_type": "stream",
     "text": [
      "Training score 0.9159431728492502\n",
      "Testing score 0.9274447949526814\n",
      "predicted Results\n",
      " [1 1 0 1 1 0 1 0 0 0 0 0 1 1 1 0 1 0 0 1 1 1 1 0 0 0 0 1 1 0 0 1 0 0 0 1 0\n",
      " 1 1 0 1 1 0 0 1 1 1 1 1 0 0 0 1 1 0 1 1 0 0 0 1 1 1 1 0 0 0 0 1 1 0 0 0 0\n",
      " 1 1 1 1 1 0 0 1 1 1 1 0 0 1 1 1 1 1 0 1 1 0 1 1 1 1 0 1 1 0 0 1 1 1 1 1 1\n",
      " 1 0 0 1 0 1 0 0 0 0 0 0 0 1 1 0 0 0 1 1 1 0 0 0 1 1 0 0 0 1 1 0 0 0 1 0 1\n",
      " 1 0 1 0 1 1 0 1 0 1 0 0 0 0 1 1 1 1 0 0 0 0 1 1 1 0 1 1 0 1 0 0 1 0 0 1 1\n",
      " 0 0 1 1 0 0 0 1 0 1 0 1 1 0 1 1 1 1 1 0 1 0 0 1 1 1 0 0 1 1 1 1 0 1 0 0 1\n",
      " 1 0 0 1 0 1 1 0 1 0 1 1 1 0 1 0 1 0 1 1 0 1 0 1 1 0 1 0 1 0 0 0 1 1 0 1 1\n",
      " 0 1 1 0 0 0 1 0 0 1 1 1 1 0 0 0 1 0 1 0 1 1 1 0 1 1 1 0 0 1 1 0 1 0 1 1 1\n",
      " 1 1 0 1 0 0 1 1 1 0 0 0 1 1 1 1 1 0 1 1 0 0 0 1 0 0 1 1 1 1 1 1 0 1 0 1 0\n",
      " 0 1 0 1 1 0 1 0 1 1 0 1 0 0 1 0 1 1 1 0 1 1 1 1 0 1 0 1 1 1 1 0 0 0 0 0 1\n",
      " 0 1 0 0 0 1 0 0 0 0 1 1 1 1 1 0 1 1 1 0 1 1 1 0 1 0 0 1 0 0 1 1 1 0 0 0 0\n",
      " 0 1 0 0 0 0 0 0 1 1 0 0 1 1 1 0 0 0 1 0 0 1 1 1 1 1 0 0 1 0 0 0 1 1 0 1 1\n",
      " 0 0 0 0 0 1 1 1 0 0 0 1 1 1 1 1 1 0 0 1 0 1 1 1 0 1 0 1 1 0 1 0 0 1 0 1 1\n",
      " 1 0 0 1 0 0 1 1 1 0 1 1 0 1 0 1 0 1 0 1 0 1 1 1 1 1 1 0 0 1 1 1 1 0 0 0 1\n",
      " 1 1 1 0 0 1 1 0 1 1 0 1 1 0 0 0 1 0 0 1 1 1 1 0 0 0 0 1 0 0 0 1 1 0 0 1 1\n",
      " 1 1 0 1 1 1 1 1 0 0 1 0 1 1 1 1 1 0 0 1 0 0 1 0 0 1 0 0 1 0 0 1 1 1 1 0 1\n",
      " 0 1 1 1 0 1 0 0 0 1 0 0 1 1 0 1 0 0 0 0 0 0 1 1 0 1 1 1 1 1 1 1 1 0 1 0 1\n",
      " 1 1 1 0 1]\n",
      "Confusion Matrix\n",
      " [[285  42]\n",
      " [  4 303]]\n",
      "Classficaition Report\n",
      "               precision    recall  f1-score   support\n",
      "\n",
      "           0       0.99      0.87      0.93       327\n",
      "           1       0.88      0.99      0.93       307\n",
      "\n",
      "    accuracy                           0.93       634\n",
      "   macro avg       0.93      0.93      0.93       634\n",
      "weighted avg       0.93      0.93      0.93       634\n",
      "\n"
     ]
    }
   ],
   "source": [
    "gen_metrics(svm_classifier_model,x_train,x_test,y_train,y_test)"
   ]
  },
  {
   "cell_type": "markdown",
   "id": "63898e9e",
   "metadata": {},
   "source": [
    "# Step 6)Report the model with the best accuracy."
   ]
  },
  {
   "cell_type": "code",
   "execution_count": 188,
   "id": "787df85b",
   "metadata": {},
   "outputs": [
    {
     "data": {
      "image/png": "[encoded data removed]",
      "text/plain": [
       "<Figure size 432x288 with 1 Axes>"
      ]
     },
     "metadata": {
      "needs_background": "light"
     },
     "output_type": "display_data"
    }
   ],
   "source": [
    "xlabels=['DT','Random Forest','KNN','Logistic','SVM']\n",
    "ylabels=[decision_tree_model.score(x_train,y_train),random_forest_model.score(x_train,y_train),knn_classifier_model.score(x_train,y_train),logistic_regression_model.score(x_train,y_train),svm_classifier_model.score(x_train,y_train)]\n",
    "# Simple Bar Plot\n",
    "plt.bar(xlabels,ylabels,width=0.4)\n",
    "plt.xlabel('Machine Learning Models')\n",
    "plt.ylabel(\"Accuracies\")\n",
    "plt.title('Accuracies of Machine Learning Models')\n",
    "plt.show()"
   ]
  },
  {
   "cell_type": "markdown",
   "id": "a3b39473",
   "metadata": {},
   "source": [
    "### Decision Tree Gives Better Accuracy than Random Forest Algorithm, KNN Algorithm, Logistic Regresssion and SVM Classifier."
   ]
  },
  {
   "cell_type": "markdown",
   "id": "5b22b8d1",
   "metadata": {},
   "source": [
    "## Model with best Accuracy : Decision Tree Classifier Model"
   ]
  },
  {
   "cell_type": "code",
   "execution_count": null,
   "id": "1ad66ff2",
   "metadata": {},
   "outputs": [],
   "source": []
  },
  {
   "cell_type": "code",
   "execution_count": null,
   "id": "5a8c8ff7",
   "metadata": {},
   "outputs": [],
   "source": []
  }
 ],
 "metadata": {
  "kernelspec": {
   "display_name": "Python 3 (ipykernel)",
   "language": "python",
   "name": "python3"
  },
  "language_info": {
   "codemirror_mode": {
    "name": "ipython",
    "version": 3
   },
   "file_extension": ".py",
   "mimetype": "text/x-python",
   "name": "python",
   "nbconvert_exporter": "python",
   "pygments_lexer": "ipython3",
   "version": "3.9.7"
  }
 },
 "nbformat": 4,
 "nbformat_minor": 5
}
